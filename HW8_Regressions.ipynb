{
 "cells": [
  {
   "cell_type": "markdown",
   "metadata": {},
   "source": [
    "# Homework 8: Regressing Data \n",
    "ENVR 890-010: Python for Environmental Research, Fall 2022\n",
    "\n",
    "By Rosa Cuppari, adapted from Andrew Hamilton.\n",
    "\n",
    "**Due November 4th before class**\n",
    "\n",
    "## Part 1\n",
    "This assignment is open ended, to be completed in Spyder (if you would like to send me a nicer Jupyter notebook, that is okay too, but show me the code in Spyder as well). I'd like you to do the following:\n",
    "1. Pick an interesting dataset related your own research or interests (can be the same as last week's homework). Make sure it has daily data for at least 20 years. \n",
    "1. Read that dataset into Python, and clean it if necessary (e.g., NAN's or weird anomalous values)\n",
    "1. Create a new dataframe that groups your data by month, and a third dataframe that groups it by year. You may need to convert your date column into a datetime object. \n",
    "1. Pick a variable of interest and perform three regressions, using the daily, monthly, and annual data. These don't necessarily need to be valid and/or interesting statistically, I just want to see that you know how to do it. But of course interesting is better!\n",
    "1. Visualize each regression with at least one plot. As a bonus, see if you can make a plot that can compare the performance of the regressions to each other. \n",
    "\n",
    "\n",
    "## Part 2\n",
    "At the bottom of your code, write what you would like to do for the last two classes. Examples include doing geospatial analysis or more advanced data manipulation. Do also let me know if there are any specific topics you want to delve deeper into or just need a better understanding of. "
   ]
  }
 ],
 "metadata": {
  "kernelspec": {
   "display_name": "Python 3 (ipykernel)",
   "language": "python",
   "name": "python3"
  },
  "language_info": {
   "codemirror_mode": {
    "name": "ipython",
    "version": 3
   },
   "file_extension": ".py",
   "mimetype": "text/x-python",
   "name": "python",
   "nbconvert_exporter": "python",
   "pygments_lexer": "ipython3",
   "version": "3.9.7"
  }
 },
 "nbformat": 4,
 "nbformat_minor": 4
}
